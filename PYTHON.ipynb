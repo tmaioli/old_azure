{
  "cells": [
    {
      "metadata": {},
      "cell_type": "markdown",
      "source": [
        "# These are some instructions for below\n",
        "\n",
        "- Subheadings created with a \"-\" Headings use \"# and ##\"\n",
        "- Subheading"
      ]
    },
    {
      "metadata": {
        "trusted": true,
        "scrolled": true,
        "tags": []
      },
      "cell_type": "code",
      "source": [
        "print(\"Hello world! this is just a playground\")"
      ],
      "execution_count": 1,
      "outputs": [
        {
          "output_type": "stream",
          "name": "stdout",
          "text": "Hello world! this is just a playground\n"
        }
      ]
    },
    {
      "metadata": {
        "trusted": true
      },
      "cell_type": "code",
      "source": [
        "z = \"maioli\""
      ],
      "execution_count": 2,
      "outputs": []
    },
    {
      "metadata": {
        "trusted": true,
        "tags": []
      },
      "cell_type": "code",
      "source": [
        "print(z[2:5])"
      ],
      "execution_count": 3,
      "outputs": [
        {
          "output_type": "stream",
          "name": "stdout",
          "text": "iol\n"
        }
      ]
    },
    {
      "metadata": {
        "trusted": true
      },
      "cell_type": "code",
      "source": [
        "z\n"
      ],
      "execution_count": 4,
      "outputs": [
        {
          "output_type": "execute_result",
          "data": {
            "text/plain": "'maioli'"
          },
          "metadata": {},
          "execution_count": 4
        }
      ]
    },
    {
      "metadata": {
        "trusted": true
      },
      "cell_type": "code",
      "source": [
        "word = z"
      ],
      "execution_count": 5,
      "outputs": []
    },
    {
      "metadata": {
        "trusted": true,
        "tags": []
      },
      "cell_type": "code",
      "source": [
        "for letter in word:\n",
        "    print(letter)\n",
        "print(\"done\")"
      ],
      "execution_count": 6,
      "outputs": [
        {
          "output_type": "stream",
          "name": "stdout",
          "text": "m\na\ni\no\nl\ni\ndone\n"
        }
      ]
    },
    {
      "metadata": {
        "trusted": true,
        "tags": []
      },
      "cell_type": "code",
      "source": [
        "# Code comment\n",
        "x = 1\n",
        "y = 2\n",
        "z = 3\n",
        "\n",
        "o =  x+ y + z\n",
        "print(o)"
      ],
      "execution_count": 7,
      "outputs": [
        {
          "output_type": "stream",
          "name": "stdout",
          "text": "6\n"
        }
      ]
    },
    {
      "metadata": {
        "trusted": true,
        "tags": []
      },
      "cell_type": "code",
      "source": [
        "work_tip = \"Code cells contain python code and can be interpreted and run from a cell. Code cells display code and output.\"\n",
        "work_tip = str.lower(work_tip)\n",
        "\n",
        "print(work_tip)\n",
        "print(\"how many w's? \", work_tip.count(\"w\"))\n",
        "print(\"how many c's? \", work_tip.count(\"c\"))\n",
        "print(\"uses 'code', how many times? \", work_tip.count(\"code\"))"
      ],
      "execution_count": 8,
      "outputs": [
        {
          "output_type": "stream",
          "name": "stdout",
          "text": "code cells contain python code and can be interpreted and run from a cell. code cells display code and output.\nhow many w's?  0\nhow many c's?  9\nuses 'code', how many times?  4\n"
        }
      ]
    },
    {
      "metadata": {
        "trusted": true
      },
      "cell_type": "code",
      "source": [
        "work_tip = \"save your code\"\n"
      ],
      "execution_count": 9,
      "outputs": []
    },
    {
      "metadata": {
        "trusted": true,
        "tags": []
      },
      "cell_type": "code",
      "source": [
        "print(\"number of characters in string\")\n"
      ],
      "execution_count": 10,
      "outputs": [
        {
          "output_type": "stream",
          "name": "stdout",
          "text": "number of characters in string\n"
        }
      ]
    },
    {
      "metadata": {
        "trusted": true,
        "tags": []
      },
      "cell_type": "code",
      "source": [
        "print(len(work_tip),\"\\n\")"
      ],
      "execution_count": 11,
      "outputs": [
        {
          "output_type": "stream",
          "name": "stdout",
          "text": "14 \n\n"
        }
      ]
    },
    {
      "metadata": {
        "trusted": true,
        "tags": []
      },
      "cell_type": "code",
      "source": [
        "\n",
        "print(work_tip.count(\"e\"),\"\\n\")"
      ],
      "execution_count": 12,
      "outputs": [
        {
          "output_type": "stream",
          "name": "stdout",
          "text": "2 \n\n"
        }
      ]
    },
    {
      "metadata": {
        "trusted": true,
        "tags": []
      },
      "cell_type": "code",
      "source": [
        "print(work_tip.find(\" \"),\"\\n\")"
      ],
      "execution_count": 13,
      "outputs": [
        {
          "output_type": "stream",
          "name": "stdout",
          "text": "4 \n\n"
        }
      ]
    },
    {
      "metadata": {
        "trusted": true,
        "tags": []
      },
      "cell_type": "code",
      "source": [
        "print('find the index of \"u\" searching a slice work_tip[3:9] -', work_tip[3:9])\n",
        "print(work_tip.find(\"u\",3,9),\"\\n\")\n"
      ],
      "execution_count": 14,
      "outputs": [
        {
          "output_type": "stream",
          "name": "stdout",
          "text": "find the index of \"u\" searching a slice work_tip[3:9] - e your\n7 \n\n"
        }
      ]
    },
    {
      "metadata": {
        "trusted": true
      },
      "cell_type": "code",
      "source": [
        "str.upper(work_tip)"
      ],
      "execution_count": 15,
      "outputs": [
        {
          "output_type": "execute_result",
          "data": {
            "text/plain": "'SAVE YOUR CODE'"
          },
          "metadata": {},
          "execution_count": 15
        }
      ]
    },
    {
      "metadata": {
        "trusted": true,
        "tags": []
      },
      "cell_type": "code",
      "source": [
        "string = \"tommy gun.\"\n",
        "mid_point = int(len (string)/2)\n",
        "print(\"The actual midpoit is\", mid_point, \"for\", string)\n",
        "print(string[0:mid_point])"
      ],
      "execution_count": 16,
      "outputs": [
        {
          "output_type": "stream",
          "name": "stdout",
          "text": "The actual midpoit is 5 for tommy gun.\ntommy\n"
        }
      ]
    },
    {
      "metadata": {
        "trusted": true,
        "tags": []
      },
      "cell_type": "code",
      "source": [
        "count = 0\n",
        "while count < 10:\n",
        "    print(f'Count : {count}')\n",
        "    count += 1"
      ],
      "execution_count": 17,
      "outputs": [
        {
          "output_type": "stream",
          "name": "stdout",
          "text": "Count : 0\nCount : 1\nCount : 2\nCount : 3\nCount : 4\nCount : 5\nCount : 6\nCount : 7\nCount : 8\nCount : 9\n"
        }
      ]
    },
    {
      "metadata": {
        "trusted": true,
        "tags": []
      },
      "cell_type": "code",
      "source": [
        "# Conditional logic\n",
        "is_old = True\n",
        "is_licence = True\n",
        "\n",
        "if is_old:\n",
        "    print(\"You're old enough\")\n",
        "elif is_licence:\n",
        "    print(\"You can drive now\")\n",
        "else:\n",
        "    print(\"Not old enough\")\n",
        "    \n",
        "if is_old and is_licence:\n",
        "    print(\"Congrates you can drive!\")"
      ],
      "execution_count": 18,
      "outputs": [
        {
          "output_type": "stream",
          "name": "stdout",
          "text": "You're old enough\nCongrates you can drive!\n"
        }
      ]
    },
    {
      "metadata": {
        "trusted": true,
        "tags": []
      },
      "cell_type": "code",
      "source": [
        "basket = [1,2,3,4,5,6,7,8,9,0]\n",
        "print(len(basket))"
      ],
      "execution_count": 19,
      "outputs": [
        {
          "output_type": "stream",
          "name": "stdout",
          "text": "10\n"
        }
      ]
    },
    {
      "metadata": {
        "trusted": true,
        "tags": []
      },
      "cell_type": "code",
      "source": [
        "basket.append(100)\n",
        "print(basket)"
      ],
      "execution_count": 20,
      "outputs": [
        {
          "output_type": "stream",
          "name": "stdout",
          "text": "[1, 2, 3, 4, 5, 6, 7, 8, 9, 0, 100]\n"
        }
      ]
    },
    {
      "metadata": {
        "trusted": true,
        "tags": []
      },
      "cell_type": "code",
      "source": [
        "basket.insert(3, \"Tommy\")\n",
        "print(basket)"
      ],
      "execution_count": 21,
      "outputs": [
        {
          "output_type": "stream",
          "name": "stdout",
          "text": "[1, 2, 3, 'Tommy', 4, 5, 6, 7, 8, 9, 0, 100]\n"
        }
      ]
    },
    {
      "metadata": {
        "trusted": true,
        "tags": []
      },
      "cell_type": "code",
      "source": [
        "sentence = \"The cat is brown\"\n",
        "q = \"cat\"\n",
        "\n",
        "if q == sentence:\n",
        "    print('strings equal')\n",
        "    \n",
        "print(\"Strings are not equal\")"
      ],
      "execution_count": 22,
      "outputs": [
        {
          "output_type": "stream",
          "name": "stdout",
          "text": "Strings are not equal\n"
        }
      ]
    },
    {
      "metadata": {
        "trusted": true,
        "tags": []
      },
      "cell_type": "code",
      "source": [
        "import random\n",
        "list = [ \"Drake\", \"Derp\", \"Derek\", \"Dominique\" ]\n",
        "random.shuffle(list)\n",
        "print(list)"
      ],
      "execution_count": 23,
      "outputs": [
        {
          "output_type": "stream",
          "name": "stdout",
          "text": "['Derek', 'Dominique', 'Drake', 'Derp']\n"
        }
      ]
    },
    {
      "metadata": {
        "trusted": true,
        "tags": []
      },
      "cell_type": "code",
      "source": [
        "for item in list:\n",
        "    print(item)"
      ],
      "execution_count": 24,
      "outputs": [
        {
          "output_type": "stream",
          "name": "stdout",
          "text": "Derek\nDominique\nDrake\nDerp\n"
        }
      ]
    },
    {
      "metadata": {
        "trusted": true,
        "tags": []
      },
      "cell_type": "code",
      "source": [
        "a = range(5)\n",
        "for number in a:\n",
        "    print(number)"
      ],
      "execution_count": 25,
      "outputs": [
        {
          "output_type": "stream",
          "name": "stdout",
          "text": "0\n1\n2\n3\n4\n"
        }
      ]
    },
    {
      "metadata": {
        "trusted": true,
        "tags": []
      },
      "cell_type": "code",
      "source": [
        "x = range(5,10)\n",
        "for n in x:\n",
        "    print(n)\n"
      ],
      "execution_count": 26,
      "outputs": [
        {
          "output_type": "stream",
          "name": "stdout",
          "text": "5\n6\n7\n8\n9\n"
        }
      ]
    },
    {
      "metadata": {
        "trusted": true,
        "tags": []
      },
      "cell_type": "code",
      "source": [
        "y = range(0,10,2)\n",
        "for n in y:\n",
        "    print(n)"
      ],
      "execution_count": 27,
      "outputs": [
        {
          "output_type": "stream",
          "name": "stdout",
          "text": "0\n2\n4\n6\n8\n"
        }
      ]
    },
    {
      "metadata": {
        "trusted": true,
        "tags": []
      },
      "cell_type": "code",
      "source": [
        "x = range(6)\n",
        "for n in x:\n",
        "  print(n)"
      ],
      "execution_count": 28,
      "outputs": [
        {
          "output_type": "stream",
          "name": "stdout",
          "text": "0\n1\n2\n3\n4\n5\n"
        }
      ]
    },
    {
      "metadata": {
        "trusted": true,
        "tags": []
      },
      "cell_type": "code",
      "source": [
        "# Truple\n",
        "q = (2,3,4)\n",
        "w = (5,6,7)\n",
        "e = q + w\n",
        "print(e)"
      ],
      "execution_count": 29,
      "outputs": [
        {
          "output_type": "stream",
          "name": "stdout",
          "text": "(2, 3, 4, 5, 6, 7)\n"
        }
      ]
    },
    {
      "metadata": {
        "trusted": true,
        "tags": []
      },
      "cell_type": "code",
      "source": [
        "words = {}\n",
        "words[\"Hello\"] = \"Bonjour\"\n",
        "words[\"Yes\"] = \"Oui\"\n",
        "words[\"No\"] = \"Non\"\n",
        "words[\"Bye\"] = \"Au Revoir\"\n",
        "\n",
        "print(words[\"Hello\"])\n",
        "print(words[\"No\"])"
      ],
      "execution_count": 30,
      "outputs": [
        {
          "output_type": "stream",
          "name": "stdout",
          "text": "Bonjour\nNon\n"
        }
      ]
    },
    {
      "metadata": {},
      "cell_type": "markdown",
      "source": [
        "# This is a heading using markdown."
      ]
    },
    {
      "metadata": {
        "trusted": true,
        "tags": []
      },
      "cell_type": "code",
      "source": [
        "x = range(3, 20, 2)\n",
        "for n in x:\n",
        "  print(n)"
      ],
      "execution_count": 31,
      "outputs": [
        {
          "output_type": "stream",
          "name": "stdout",
          "text": "3\n5\n7\n9\n11\n13\n15\n17\n19\n"
        }
      ]
    },
    {
      "metadata": {
        "trusted": true
      },
      "cell_type": "markdown",
      "source": [
        "## This is a level two headding using two \"##\"."
      ]
    },
    {
      "metadata": {
        "trusted": true
      },
      "cell_type": "code",
      "source": [],
      "execution_count": null,
      "outputs": []
    }
  ],
  "metadata": {
    "kernelspec": {
      "name": "python3",
      "display_name": "Python 3",
      "language": "python"
    },
    "language_info": {
      "mimetype": "text/x-python",
      "nbconvert_exporter": "python",
      "name": "python",
      "pygments_lexer": "ipython3",
      "version": "3.7.2-final",
      "file_extension": ".py",
      "codemirror_mode": {
        "version": 3,
        "name": "ipython"
      }
    }
  },
  "nbformat": 4,
  "nbformat_minor": 2
}