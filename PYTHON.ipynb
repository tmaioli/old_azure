{
  "cells": [
    {
      "metadata": {
        "trusted": true,
        "scrolled": true
      },
      "cell_type": "code",
      "source": "print(\"Hello world!\")",
      "execution_count": 1,
      "outputs": [
        {
          "output_type": "stream",
          "text": "Hello world!\n",
          "name": "stdout"
        }
      ]
    },
    {
      "metadata": {
        "trusted": true
      },
      "cell_type": "code",
      "source": "z = \"maioli\"",
      "execution_count": 2,
      "outputs": []
    },
    {
      "metadata": {
        "trusted": true
      },
      "cell_type": "code",
      "source": "print(z[2:5])",
      "execution_count": 3,
      "outputs": [
        {
          "output_type": "stream",
          "text": "iol\n",
          "name": "stdout"
        }
      ]
    },
    {
      "metadata": {
        "trusted": true
      },
      "cell_type": "code",
      "source": "z\n",
      "execution_count": 4,
      "outputs": [
        {
          "output_type": "execute_result",
          "execution_count": 4,
          "data": {
            "text/plain": "'maioli'"
          },
          "metadata": {}
        }
      ]
    },
    {
      "metadata": {
        "trusted": true
      },
      "cell_type": "code",
      "source": "word = z",
      "execution_count": 5,
      "outputs": []
    },
    {
      "metadata": {
        "trusted": true
      },
      "cell_type": "code",
      "source": "for letter in word:\n    print(letter)\nprint(\"done\")",
      "execution_count": 6,
      "outputs": [
        {
          "output_type": "stream",
          "text": "m\na\ni\no\nl\ni\ndone\n",
          "name": "stdout"
        }
      ]
    },
    {
      "metadata": {},
      "cell_type": "markdown",
      "source": "# These are some instructions\n\n- Subheading\n- Subheading"
    },
    {
      "metadata": {
        "trusted": true
      },
      "cell_type": "code",
      "source": "# Code comment\nx = 1\ny = 2\nz = 3\n\no =  x+ y + z\nprint(o)",
      "execution_count": 7,
      "outputs": [
        {
          "output_type": "stream",
          "text": "6\n",
          "name": "stdout"
        }
      ]
    },
    {
      "metadata": {
        "trusted": true
      },
      "cell_type": "code",
      "source": "work_tip = \"Code cells contain python code and can be interpreted and run from a cell. Code cells display code and output.\"\nwork_tip = str.lower(work_tip)\n\nprint(work_tip)\nprint(\"how many w's? \", work_tip.count(\"w\"))\nprint(\"how many c's? \", work_tip.count(\"c\"))\nprint(\"uses 'code', how many times? \", work_tip.count(\"code\"))",
      "execution_count": 11,
      "outputs": [
        {
          "output_type": "stream",
          "text": "code cells contain python code and can be interpreted and run from a cell. code cells display code and output.\nhow many w's?  0\nhow many c's?  9\nuses 'code', how many times?  4\n",
          "name": "stdout"
        }
      ]
    },
    {
      "metadata": {
        "trusted": true
      },
      "cell_type": "code",
      "source": "work_tip = \"save your code\"\n",
      "execution_count": 12,
      "outputs": []
    },
    {
      "metadata": {
        "trusted": true
      },
      "cell_type": "code",
      "source": "print(\"number of characters in string\")\n",
      "execution_count": 13,
      "outputs": [
        {
          "output_type": "stream",
          "text": "number of characters in string\n",
          "name": "stdout"
        }
      ]
    },
    {
      "metadata": {
        "trusted": true
      },
      "cell_type": "code",
      "source": "print(len(work_tip),\"\\n\")",
      "execution_count": 14,
      "outputs": [
        {
          "output_type": "stream",
          "text": "14 \n\n",
          "name": "stdout"
        }
      ]
    },
    {
      "metadata": {
        "trusted": true
      },
      "cell_type": "code",
      "source": "\nprint(work_tip.count(\"e\"),\"\\n\")",
      "execution_count": 15,
      "outputs": [
        {
          "output_type": "stream",
          "text": "2 \n\n",
          "name": "stdout"
        }
      ]
    },
    {
      "metadata": {
        "trusted": true
      },
      "cell_type": "code",
      "source": "print(work_tip.find(\" \"),\"\\n\")",
      "execution_count": 16,
      "outputs": [
        {
          "output_type": "stream",
          "text": "4 \n\n",
          "name": "stdout"
        }
      ]
    },
    {
      "metadata": {
        "trusted": true
      },
      "cell_type": "code",
      "source": "print('find the index of \"u\" searching a slice work_tip[3:9] -', work_tip[3:9])\nprint(work_tip.find(\"u\",3,9),\"\\n\")\n",
      "execution_count": 17,
      "outputs": [
        {
          "output_type": "stream",
          "text": "find the index of \"u\" searching a slice work_tip[3:9] - e your\n7 \n\n",
          "name": "stdout"
        }
      ]
    },
    {
      "metadata": {
        "trusted": true
      },
      "cell_type": "code",
      "source": "str.upper(work_tip)",
      "execution_count": 18,
      "outputs": [
        {
          "output_type": "execute_result",
          "execution_count": 18,
          "data": {
            "text/plain": "'SAVE YOUR CODE'"
          },
          "metadata": {}
        }
      ]
    },
    {
      "metadata": {
        "trusted": true
      },
      "cell_type": "code",
      "source": "string = \"tommy gun.\"\nmid_point = int(len (string)/2)\nprint(\"The actual midpoit is\", mid_point, \"for\", string)\nprint(string[0:mid_point])",
      "execution_count": 19,
      "outputs": [
        {
          "output_type": "stream",
          "text": "The actual midpoit is 5 for tommy gun.\ntommy\n",
          "name": "stdout"
        }
      ]
    },
    {
      "metadata": {
        "trusted": true
      },
      "cell_type": "code",
      "source": "count = 0\nwhile count < 10:\n    print(f'Count : {count}')\n    count += 1",
      "execution_count": 20,
      "outputs": [
        {
          "output_type": "stream",
          "text": "Count : 0\nCount : 1\nCount : 2\nCount : 3\nCount : 4\nCount : 5\nCount : 6\nCount : 7\nCount : 8\nCount : 9\n",
          "name": "stdout"
        }
      ]
    },
    {
      "metadata": {
        "trusted": true
      },
      "cell_type": "code",
      "source": "# Conditional logic\nis_old = True\nis_licence = True\n\nif is_old:\n    print(\"You're old enough\")\nelif is_licence:\n    print(\"You can drive now\")\nelse:\n    print(\"Not old enough\")\n    \nif is_old and is_licence:\n    print(\"Congrates you can drive!\")",
      "execution_count": 21,
      "outputs": [
        {
          "output_type": "stream",
          "text": "You're old enough\nCongrates you can drive!\n",
          "name": "stdout"
        }
      ]
    },
    {
      "metadata": {
        "trusted": true
      },
      "cell_type": "code",
      "source": "basket = [1,2,3,4,5,6,7,8,9,0]\nprint(len(basket))",
      "execution_count": 22,
      "outputs": [
        {
          "output_type": "stream",
          "text": "10\n",
          "name": "stdout"
        }
      ]
    },
    {
      "metadata": {
        "trusted": true
      },
      "cell_type": "code",
      "source": "basket.append(100)\nprint(basket)",
      "execution_count": 25,
      "outputs": [
        {
          "output_type": "stream",
          "text": "[1, 2, 3, 4, 5, 6, 7, 8, 9, 0, 100, 100]\n",
          "name": "stdout"
        }
      ]
    },
    {
      "metadata": {
        "trusted": true
      },
      "cell_type": "code",
      "source": "basket.insert(3, \"Tommy\")\nprint(basket)",
      "execution_count": 26,
      "outputs": [
        {
          "output_type": "stream",
          "text": "[1, 2, 3, 'Tommy', 4, 5, 6, 7, 8, 9, 0, 100, 100]\n",
          "name": "stdout"
        }
      ]
    },
    {
      "metadata": {
        "trusted": true
      },
      "cell_type": "code",
      "source": "sentence = \"The cat is brown\"\nq = \"cat\"\n\nif q == sentence:\n    print('strings equal')\n    \nprint(\"Strings are not equal\")",
      "execution_count": 3,
      "outputs": [
        {
          "output_type": "stream",
          "text": "Strings are not equal\n",
          "name": "stdout"
        }
      ]
    },
    {
      "metadata": {
        "trusted": true
      },
      "cell_type": "code",
      "source": "import random\nlist = [ \"Drake\", \"Derp\", \"Derek\", \"Dominique\" ]\nrandom.shuffle(list)\nprint(list)",
      "execution_count": 7,
      "outputs": [
        {
          "output_type": "stream",
          "text": "['Dominique', 'Derek', 'Derp', 'Drake']\n",
          "name": "stdout"
        }
      ]
    },
    {
      "metadata": {
        "trusted": true
      },
      "cell_type": "code",
      "source": "for item in list:\n    print(item)",
      "execution_count": 9,
      "outputs": [
        {
          "output_type": "stream",
          "text": "Dominique\nDerek\nDerp\nDrake\n",
          "name": "stdout"
        }
      ]
    },
    {
      "metadata": {
        "trusted": true
      },
      "cell_type": "code",
      "source": "a = range(5)\nfor number in a:\n    print(number)",
      "execution_count": 24,
      "outputs": [
        {
          "output_type": "stream",
          "text": "0\n1\n2\n3\n4\n",
          "name": "stdout"
        }
      ]
    },
    {
      "metadata": {
        "trusted": true
      },
      "cell_type": "code",
      "source": "x = range(5,10)\nfor n in x:\n    print(n)\n",
      "execution_count": 27,
      "outputs": [
        {
          "output_type": "stream",
          "text": "5\n6\n7\n8\n9\n",
          "name": "stdout"
        }
      ]
    },
    {
      "metadata": {
        "trusted": true
      },
      "cell_type": "code",
      "source": "y = range(0,10,2)\nfor n in y:\n    print(n)",
      "execution_count": 29,
      "outputs": [
        {
          "output_type": "stream",
          "text": "0\n2\n4\n6\n8\n",
          "name": "stdout"
        }
      ]
    },
    {
      "metadata": {
        "trusted": true
      },
      "cell_type": "code",
      "source": "x = range(6)\nfor n in x:\n  print(n)",
      "execution_count": 23,
      "outputs": [
        {
          "output_type": "stream",
          "text": "0\n1\n2\n3\n4\n5\n",
          "name": "stdout"
        }
      ]
    },
    {
      "metadata": {
        "trusted": true
      },
      "cell_type": "code",
      "source": "# Truple\nq = (2,3,4)\nw = (5,6,7)\ne = q + w\nprint(e)",
      "execution_count": 30,
      "outputs": [
        {
          "output_type": "stream",
          "text": "(2, 3, 4, 5, 6, 7)\n",
          "name": "stdout"
        }
      ]
    },
    {
      "metadata": {
        "trusted": true
      },
      "cell_type": "code",
      "source": "words = {}\nwords[\"Hello\"] = \"Bonjour\"\nwords[\"Yes\"] = \"Oui\"\nwords[\"No\"] = \"Non\"\nwords[\"Bye\"] = \"Au Revoir\"\n\nprint(words[\"Hello\"])\nprint(words[\"No\"])",
      "execution_count": 8,
      "outputs": [
        {
          "output_type": "stream",
          "text": "Bonjour\nNon\n",
          "name": "stdout"
        }
      ]
    },
    {
      "metadata": {},
      "cell_type": "markdown",
      "source": "# This is a heading using markdown."
    },
    {
      "metadata": {
        "trusted": true
      },
      "cell_type": "code",
      "source": "x = range(3, 20, 2)\nfor n in x:\n  print(n)",
      "execution_count": 1,
      "outputs": [
        {
          "output_type": "stream",
          "text": "3\n5\n7\n9\n11\n13\n15\n17\n19\n",
          "name": "stdout"
        }
      ]
    },
    {
      "metadata": {
        "trusted": true
      },
      "cell_type": "markdown",
      "source": "## This is a level two headding using two \"##\"."
    },
    {
      "metadata": {
        "trusted": true
      },
      "cell_type": "code",
      "source": "",
      "execution_count": null,
      "outputs": []
    }
  ],
  "metadata": {
    "kernelspec": {
      "name": "python36",
      "display_name": "Python 3.6",
      "language": "python"
    },
    "language_info": {
      "mimetype": "text/x-python",
      "nbconvert_exporter": "python",
      "name": "python",
      "pygments_lexer": "ipython3",
      "version": "3.6.6",
      "file_extension": ".py",
      "codemirror_mode": {
        "version": 3,
        "name": "ipython"
      }
    }
  },
  "nbformat": 4,
  "nbformat_minor": 2
}